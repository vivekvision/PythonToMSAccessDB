{
 "cells": [
  {
   "cell_type": "markdown",
   "id": "a0c34818",
   "metadata": {},
   "source": [
    " Python code that demonstrates how to write data from a Pandas DataFrame into a Microsoft Access database using pyodbc and pandas"
   ]
  },
  {
   "cell_type": "code",
   "execution_count": null,
   "id": "2eb43421",
   "metadata": {},
   "outputs": [],
   "source": [
    "import pandas as pd\n",
    "import pyodbc"
   ]
  },
  {
   "cell_type": "markdown",
   "id": "aa5f876e",
   "metadata": {},
   "source": [
    "First set up a connection to the Microsoft Access database using the pyodbc library. \n",
    "\n",
    "then create a Pandas DataFrame with the data we want to write to the database, and use the to_sql method to write the data to a new table in the database. \n",
    "\n",
    "Finally, we close the database connection.\n",
    "\n",
    "Note that need to replace the DBQ parameter in the connection string with the path to local Microsoft Access database file, and specify the correct table name in the to_sql method."
   ]
  },
  {
   "cell_type": "code",
   "execution_count": null,
   "id": "bc2b1088",
   "metadata": {},
   "outputs": [],
   "source": [
    "# Set up a connection to the Microsoft Access database\n",
    "conn_str = (\n",
    "    r'DRIVER={Microsoft Access Driver (*.mdb, *.accdb)};'\n",
    "    r'DBQ=C:\\path\\to\\your\\access\\database.accdb;'\n",
    "    )\n",
    "conn = pyodbc.connect(conn_str)\n",
    "\n",
    "# Create a Pandas DataFrame with the data you want to write to the database\n",
    "df = pd.DataFrame({\n",
    "    'Name': ['John', 'Mary', 'Peter'],\n",
    "    'Age': [32, 25, 41],\n",
    "    'City': ['New York', 'London', 'Paris']\n",
    "    })\n",
    "\n",
    "# Write the data to a new table in the database\n",
    "table_name = 'my_table'\n",
    "df.to_sql(table_name, conn, if_exists='replace', index=False)\n",
    "\n",
    "# Close the database connection\n",
    "conn.close()"
   ]
  },
  {
   "cell_type": "markdown",
   "id": "0121d25d",
   "metadata": {},
   "source": [
    "Another version of code, still set up a connection to the Microsoft Access database using the pyodbc library.\n",
    "\n",
    "then create a Pandas DataFrame with the data we want to write to the database. \n",
    "\n",
    "However, instead of using the to_sql method,  create a new table in the database using the CREATE TABLE SQL statement, and then use a for loop to insert the data into the table using the INSERT INTO SQL statement\n"
   ]
  },
  {
   "cell_type": "code",
   "execution_count": null,
   "id": "aafbe4cc",
   "metadata": {},
   "outputs": [],
   "source": [
    "import pandas as pd\n",
    "import pyodbc\n",
    "\n",
    "# Set up a connection to the Microsoft Access database\n",
    "conn_str = (\n",
    "    r'DRIVER={Microsoft Access Driver (*.mdb, *.accdb)};'\n",
    "    r'DBQ=C:\\path\\to\\your\\access\\database.accdb;'\n",
    "    )\n",
    "conn = pyodbc.connect(conn_str)\n",
    "\n",
    "# Create a Pandas DataFrame with the data you want to write to the database\n",
    "df = pd.DataFrame({\n",
    "    'Name': ['John', 'Mary', 'Peter'],\n",
    "    'Age': [32, 25, 41],\n",
    "    'City': ['New York', 'London', 'Paris']\n",
    "    })\n",
    "\n",
    "\n",
    "# Write the data to a new table in the database\n",
    "cursor = conn.cursor()\n",
    "table_name = 'my_table'\n",
    "cursor.execute(f\"CREATE TABLE {table_name} (Name varchar(255), Age int, City varchar(255))\")\n",
    "for row in df.itertuples():\n",
    "    cursor.execute(f\"INSERT INTO {table_name} (Name, Age, City) VALUES (?, ?, ?)\", row.Name, row.Age, row.City)\n",
    "cursor.commit()\n",
    "\n",
    "\n",
    "\n",
    "# Close the database connection\n",
    "conn.close()\n"
   ]
  }
 ],
 "metadata": {
  "kernelspec": {
   "display_name": "Python 3 (ipykernel)",
   "language": "python",
   "name": "python3"
  },
  "language_info": {
   "codemirror_mode": {
    "name": "ipython",
    "version": 3
   },
   "file_extension": ".py",
   "mimetype": "text/x-python",
   "name": "python",
   "nbconvert_exporter": "python",
   "pygments_lexer": "ipython3",
   "version": "3.10.9"
  }
 },
 "nbformat": 4,
 "nbformat_minor": 5
}
